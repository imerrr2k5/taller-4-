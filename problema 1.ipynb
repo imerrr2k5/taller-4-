{
  "nbformat": 4,
  "nbformat_minor": 0,
  "metadata": {
    "colab": {
      "provenance": [],
      "authorship_tag": "ABX9TyPJln+Y1bjzUsDoZP44Z4ju",
      "include_colab_link": true
    },
    "kernelspec": {
      "name": "python3",
      "display_name": "Python 3"
    },
    "language_info": {
      "name": "python"
    }
  },
  "cells": [
    {
      "cell_type": "markdown",
      "metadata": {
        "id": "view-in-github",
        "colab_type": "text"
      },
      "source": [
        "<a href=\"https://colab.research.google.com/github/imerrr2k5/taller-4-/blob/main/problema%201.ipynb\" target=\"_parent\"><img src=\"https://colab.research.google.com/assets/colab-badge.svg\" alt=\"Open In Colab\"/></a>"
      ]
    },
    {
      "cell_type": "code",
      "execution_count": null,
      "metadata": {
        "id": "oqnu0CmXPHZ1"
      },
      "outputs": [],
      "source": []
    },
    {
      "cell_type": "markdown",
      "source": [
        "algoritmo para crear discursos politicos\n",
        "\n",
        "1. iniciar\n",
        "2. crear una lista llamada \"discurso\"\n",
        "3. para cada elemento en la lista \"titulos\":\n",
        "- añadir el elemento a la lista \"discurso\"\n",
        "4. para cada elemento en la lista \"publico_objetivo\":\n",
        "- añadir el elemento a la lista \"discurso\"\n",
        "5. para cada elemento en la lista \"condiciones\":\n",
        "- añadir el elemento a la lista \"discurso\"\n",
        "6. para cada elemento en la lista \"compromisos\":\n",
        "- añadir el elemento a la lista \"discurso\"\n",
        "7. para cada elemento en la lista \"ilusiones_lucha\":\n",
        "- añadir el elemento a la lista \"discurso\"\n",
        "8. para cada elemento en la lista \"promesas\":\n",
        "- añadir el elemento a la lista \"discurso\"\n",
        "9. para cada elemento en la lista \"beneficios_populitarios\":\n",
        "- añadir el elemento a la lista \"discurso\"\n",
        "10. para cada elemento en la lista \"cantidad_votos\":\n",
        "- añadir el elemento a la lista \"discursos\"\n",
        "11. agregar la lista \"discursos\"\n",
        "12. finalizar\n",
        "\n",
        "\n",
        "```\n",
        "pseudocodigo\n",
        "Program GeneradorDiscursoPolitico\n",
        "// Programa para generar un discurso político aleatorio\n",
        "\n",
        "Start\n",
        "// Declarar listas para cada categoría\n",
        "\n",
        "Declare list TITULOS = [\"Queridos\", \"Apreciados\", \"Distinguidos\", \"Honorables\", \"Estimados\", \"Respetados\"]\n",
        "\n",
        "Declare list PUBLICO_OBJETIVO = [\"Compatriotas\", \"Copartidarios\", \"Amigos\", \"Coterraneos\", \"Conciudadanos\", \"Electores\"]\n",
        "\n",
        "Declare list CONDICIONES = [\"En mi gobierno\", \"Con su apoyo\", \"Siendo elegido\", \"Con su ayuda\", \"Si me siguen\", \"Durante mi mandato\"]\n",
        "\n",
        "Declare list COMPROMISOS = [\"Voy a derrotar\", \"Venceré\", \"Eliminaré\", \"Acabaré\", \"Lucharé contra\", \"Combatiré\"]\n",
        "\n",
        "Declare list ILUSIONES_LUCHA = [\"La violencia y\", \"La delincuencia y\", \"La corrupción y\", \"La inflación y\", \"La pobreza y\", \"El hambre y\"]\n",
        "\n",
        "Declare list PROMESAS = [\"Trabajaré por\", \"Garantizaré\", \"Protegeré\", \"Velaré por\", \"Promoveré\", \"Defenderé\"]\n",
        "\n",
        "Declare list BENEFICIOS_POPULISTAS = [\"La educación\", \"El empleo\", \"La seguridad\", \"La paz\", \"La igualdad\", \"La salud\"]\n",
        "\n",
        "Declare list CANTIDAD_VOTOS = [\"Del país\", \"De la ciudad\", \"De la comunidad\", \"De la población\", \"Para toda la gente\", \"De cada colombiano\"]\n",
        "\n",
        "// Declarar variables para almacenar las selecciones\n",
        "Declare String TITULO\n",
        "Declare String AUDIENCIA\n",
        "Declare String CONDICION\n",
        "Declare String COMPROMISO\n",
        "Declare String ILUSION\n",
        "Declare String PROMESA\n",
        "Declare String BENEFICIO\n",
        "Declare String VOTOS\n",
        "\n",
        "// Seleccionar aleatoriamente valores de cada lista\n",
        "Set TITULO = seleccionar aleatoriamente TITULO\n",
        "Set AUDIENCIA = seleccionar aleatoriamente PUBLICO_OBJETIVO\n",
        "Set CONDICION = seleccionar aleatoriamenteCONDICIONES\n",
        "Set COMPROMISO = seleccionar aleatoriamente COMPROMISOS\n",
        "Set ILUSION = seleccionar aleatoriamente ILUSIONES_LUCHA\n",
        "Set PROMESA = seleccionar aleatoriamente PROMESAS\n",
        "Set BENEFICIO = seleccionar aleatoriamente BENEFICIOS_POPULISTAS\n",
        "Set VOTOS = seleccionar aleatoriamente CANTIDAD_VOTOS\n",
        "\n",
        "// Construir el discurso concatenando las selecciones\n",
        "Declare String DISCURSO\n",
        "Set DISCURSO = TITULO + \" \" + AUDIENCIA + \", \" + CONDICION + \" \" + COMPROMISO + \" \" + ILUSION + \" \" + PROMESA + \" \" + BENEFICIO + \" \" + VOTOS + \".\"\n",
        "\n",
        "// Mostrar el discurso generado\n",
        "Display DISCURSO\n",
        "\n",
        "End\n",
        "```"
      ],
      "metadata": {
        "id": "FoYZg0IuRB8X"
      }
    },
    {
      "cell_type": "code",
      "source": [
        "###codigo en python\n",
        "\n",
        "import random\n",
        "\n",
        "def generar_discurso():\n",
        "    # Listas de frases según las categorías de la imagen\n",
        "    titulos = [\"Queridos\", \"Apreciados\", \"Distinguidos\", \"Honorables\", \"Estimados\", \"Respetados\"]\n",
        "    publico_objetivo = [\"Compatriotas\", \"Copartidarios\", \"Amigos\", \"Coterráneos\", \"Conciudadanos\", \"Electores\"]\n",
        "    condiciones = [\"En mi gobierno\", \"Con su apoyo\", \"Siendo elegido\", \"Con su ayuda\", \"Si me siguen\", \"Durante mi mandato\"]\n",
        "    compromisos = [\"Voy a derrotar\", \"Venceré\", \"Eliminaré\", \"Acabaré\", \"Lucharé contra\", \"Combatiré\"]\n",
        "    luchas = [\"la violencia y\", \"la injusticia y\", \"la corrupción y\", \"la inflación y\", \"la pobreza y\", \"_\"]\n",
        "    promesas = [\"Trabajaré por\", \"Garantizaré\", \"Protegeré\", \"Velaré por\", \"Promoveré\", \"Defenderé\"]\n",
        "    beneficios = [\"la educación\", \"el empleo\", \"la seguridad\", \"la paz\", \"la igualdad\", \"la salud\"]\n",
        "    votos = [\"del país\", \"de la ciudad\", \"de la comunidad\", \"de la población\", \"para toda la gente\", \"de cada colombiano\"]\n",
        "\n",
        "    # Selección aleatoria de cada parte del discurso\n",
        "    titulo = random.choice(titulos)\n",
        "    objetivo = random.choice(publico_objetivo)\n",
        "    condicion = random.choice(condiciones)\n",
        "    compromiso = random.choice(compromisos)\n",
        "    lucha = random.choice(luchas)\n",
        "    promesa = random.choice(promesas)\n",
        "    beneficio = random.choice(beneficios)\n",
        "    cantidad_votos = random.choice(votos)\n",
        "\n",
        "    # Crear el discurso con un tono humanista\n",
        "    discurso = (f\"{titulo} {objetivo},\\n\\n\"\n",
        "                f\"{condicion}, {compromiso} {lucha} \"\n",
        "                f\"{promesa} {beneficio}, {cantidad_votos}. \"\n",
        "                f\"Juntos construiremos un futuro donde la empatía, la solidaridad y el bienestar común \"\n",
        "                f\"sean nuestras guías para avanzar como sociedad. Sé que con su apoyo, \"\n",
        "                f\"podemos lograr una comunidad más justa y equitativa para todos.\\n\\n\"\n",
        "                f\"Gracias por su confianza y compromiso con este sueño colectivo.\")\n",
        "\n",
        "    return discurso\n",
        "\n",
        "# Generar y mostrar el discurso\n",
        "discurso_politico = generar_discurso()\n",
        "print(discurso_politico)"
      ],
      "metadata": {
        "colab": {
          "base_uri": "https://localhost:8080/"
        },
        "id": "NnO-Bm0naVtn",
        "outputId": "57d6c0f0-7c62-4513-bde7-0527f0ad584e"
      },
      "execution_count": 3,
      "outputs": [
        {
          "output_type": "stream",
          "name": "stdout",
          "text": [
            "Distinguidos Compatriotas,\n",
            "\n",
            "En mi gobierno, Venceré la pobreza y Promoveré la igualdad, del país. Juntos construiremos un futuro donde la empatía, la solidaridad y el bienestar común sean nuestras guías para avanzar como sociedad. Sé que con su apoyo, podemos lograr una comunidad más justa y equitativa para todos.\n",
            "\n",
            "Gracias por su confianza y compromiso con este sueño colectivo.\n"
          ]
        }
      ]
    },
    {
      "cell_type": "code",
      "source": [],
      "metadata": {
        "id": "7OW-HEhUcXHC"
      },
      "execution_count": null,
      "outputs": []
    }
  ]
}