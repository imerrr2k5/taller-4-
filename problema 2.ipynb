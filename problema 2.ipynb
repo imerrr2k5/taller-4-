{
  "nbformat": 4,
  "nbformat_minor": 0,
  "metadata": {
    "colab": {
      "provenance": [],
      "authorship_tag": "ABX9TyO8kdRtxRZF6xIAI305+0SG",
      "include_colab_link": true
    },
    "kernelspec": {
      "name": "python3",
      "display_name": "Python 3"
    },
    "language_info": {
      "name": "python"
    }
  },
  "cells": [
    {
      "cell_type": "markdown",
      "metadata": {
        "id": "view-in-github",
        "colab_type": "text"
      },
      "source": [
        "<a href=\"https://colab.research.google.com/github/imerrr2k5/taller-4-/blob/main/Untitled7.ipynb\" target=\"_parent\"><img src=\"https://colab.research.google.com/assets/colab-badge.svg\" alt=\"Open In Colab\"/></a>"
      ]
    },
    {
      "cell_type": "markdown",
      "source": [
        "ALGORITMO PARA CALCULAR EL PROMEDIO PONDERADO\n",
        "1. INICIAR\n",
        "2. Inicializar las variables calificacionTotal y precioTotal = 0\n",
        "3. Declarar las variables, peso de la calificación, calificacion y promedio\n",
        "4. Repetir las siguientes instrucciones mientras que el usuario ingresa sus calificaciones y peso (keepCalculate = True)\n",
        " - Obtener calificacion\n",
        " - Obtener el porcentaje\n",
        " - Realizar el calculo de la calificación (calificación * peso) y sumar a calificaciónTotal\n",
        " - Sumar porcentajeTotal a peso\n",
        " - Preguntar al Usuario si desea agregar otra calificación, de no ser asi dejar de repetir, (keepCalculate = False), break\n",
        "5. Realizar el calculo del promedio (pesoTotal/calificacionTotal)\n",
        "6. Mostrar pesoTotal, calificacionTotal, promedio\n",
        "7. Si no se ingresaron calificaciones validad, mostrar el mensaje \"no valido\"\n",
        "8. Finalizar\n",
        "\n",
        "\n",
        "```\n",
        "PSEUDOCODIGO\n",
        "Program calcularPromedioPonderado\n",
        "\n",
        "Start\n",
        " // Declarar las variables e iniciarlas\n",
        " Declare float calificacion\n",
        " Declare float promedio\n",
        " Declare float pesoCalificación\n",
        " Constant float pesoCalificación = 0\n",
        " Constant float calificacionTotal  = 0\n",
        " Declare String userchoice\n",
        " Declare Bool keepCalculate = True\n",
        "\n",
        "  While keepCalulate Then\n",
        "  Display \"ingrese su calificación: \"\n",
        "  input calificación\n",
        "  Display \"ingrese el peso de la calificación\"\n",
        "  input pesoCalificación\n",
        "\n",
        "  // Sumar la calificación y su peso\n",
        "  Set calificacionTotal += calificación * pesoCalificación\n",
        "  Set pesoTotal += pesoCalificación\n",
        "\n",
        "  //preguntar si quiere ingresar otra calificación\n",
        "  Display \"¿quiere ingresar otra calificación? (s/n): \"\n",
        "  input userChoice\n",
        "  If userchoice == \"n\" Then\n",
        "    keepCalculate = False\n",
        "  End While\n",
        "\n",
        "  //calcular promedio\n",
        "  Set promedio 0 calificaciónTotal / pesoTotal\n",
        "\n",
        "  //Mostrar promedio y peso total\n",
        "  Display \"El peso total es de: \", pesoTotal\n",
        "  Display \"El promedio ponderado es de: \", promedio\n",
        "\n",
        "End\n",
        "\n",
        "\n",
        "\n",
        "\n",
        "\n",
        "\n",
        "//\n",
        "```"
      ],
      "metadata": {
        "id": "qeVQ7qjjQU7c"
      }
    },
    {
      "cell_type": "code",
      "source": [
        "#inicializamos las variables\n",
        "calificacionTotal = 0\n",
        "pesoTotal = 0\n",
        "\n",
        "while True:\n",
        "  #solicitar calificacionón y peso\n",
        "  calificacion = float(input(\"Ingrese una calificación: \"))\n",
        "  peso = float(input(\"Ingrese el peso de la calificación (en porcentaje): \"))\n",
        "  # Sumar productos de calificaciones por sus pesos\n",
        "  calificacionTotal += calificacion * peso\n",
        "  pesoTotal += peso\n",
        "\n",
        " # Preguntar si desea agregar otra calificación\n",
        "  otra_calificacion = input(\"¿Desea agregar otra calificación? (si/no): \")\n",
        "  if otra_calificacion.lower() != \"si\":\n",
        "    break\n",
        "# Calcular el promedio ponderado\n",
        "if pesoTotal > 0:\n",
        "  promedio_ponderado = calificacionTotal / pesoTotal\n",
        "  print(\"El promedio ponderado es:\", promedio_ponderado)\n",
        "else:\n",
        "  print(\"No válido\")\n",
        ""
      ],
      "metadata": {
        "colab": {
          "base_uri": "https://localhost:8080/"
        },
        "id": "NW7VSYhTaINn",
        "outputId": "26578476-4b70-4d75-b030-557cd9e087b6"
      },
      "execution_count": 8,
      "outputs": [
        {
          "output_type": "stream",
          "name": "stdout",
          "text": [
            "Ingrese una calificación: 4\n",
            "Ingrese el peso de la calificación (en porcentaje): 0.2\n",
            "¿Desea agregar otra calificación? (si/no): s\n",
            "Ingrese una calificación: 4.5\n",
            "Ingrese el peso de la calificación (en porcentaje): 0.4\n",
            "¿Desea agregar otra calificación? (si/no): s\n",
            "Ingrese una calificación: 3.8\n",
            "Ingrese el peso de la calificación (en porcentaje): 0.2\n",
            "¿Desea agregar otra calificación? (si/no): n\n",
            "El promedio ponderado es: 4.2\n"
          ]
        }
      ]
    },
    {
      "cell_type": "code",
      "source": [],
      "metadata": {
        "id": "ZueDTng6eh-5"
      },
      "execution_count": null,
      "outputs": []
    }
  ]
}
